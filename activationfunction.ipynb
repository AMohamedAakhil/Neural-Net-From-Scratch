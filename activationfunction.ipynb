{
 "cells": [
  {
   "cell_type": "code",
   "execution_count": 35,
   "id": "0c1f9da8-b1ae-4f79-8096-b49e18e189e2",
   "metadata": {},
   "outputs": [
    {
     "data": {
      "text/plain": [
       "'\\ninputs = [0, -1, 2, 3, 4, 5, 6]\\noutputs = []\\n\\nfor i in inputs:\\n    outputs.append(max(0, i))\\nprint(outputs)\\n\\n'"
      ]
     },
     "execution_count": 35,
     "metadata": {},
     "output_type": "execute_result"
    }
   ],
   "source": [
    "import numpy as np\n",
    "\n",
    "X = [[1, 2, 3, 4],\n",
    "    [2, 3, 4, 5],\n",
    "    [2, 6, 3, 2]]\n",
    "\"\"\"\n",
    "inputs = [0, -1, 2, 3, 4, 5, 6]\n",
    "outputs = []\n",
    "\n",
    "for i in inputs:\n",
    "    outputs.append(max(0, i))\n",
    "print(outputs)\n",
    "\n",
    "\"\"\""
   ]
  },
  {
   "cell_type": "code",
   "execution_count": 36,
   "id": "a486bb3f-50cf-4298-8931-a564b7dc4d72",
   "metadata": {},
   "outputs": [
    {
     "data": {
      "text/plain": [
       "array([[0.10460608, 0.08663504],\n",
       "       [0.12402582, 0.11251424],\n",
       "       [0.02382219, 0.0462729 ]], dtype=float32)"
      ]
     },
     "execution_count": 36,
     "metadata": {},
     "output_type": "execute_result"
    }
   ],
   "source": [
    "class Layer_Dense:\n",
    "    def __init__(self, n_inputs, n_neurons):\n",
    "        self.weights = 0.10 * np.random.randn(n_inputs, n_neurons)\n",
    "        self.biases = np.zeros((1, n_neurons))\n",
    "    def forward(self, inputs):\n",
    "        self.outputs = np.dot(inputs, self.weights) + self.biases\n",
    "\n",
    "class Activation_ReLU:\n",
    "    def forward(self, inputs):\n",
    "        self.outputs = np.maximum(0, inputs)\n",
    "        \n",
    "        \n",
    "layer1 = Layer_Dense(4, 5)\n",
    "layer2 = Layer_Dense(5, 2)\n",
    "\n",
    "layer1.forward(np.array(X))\n",
    "layer2.forward(layer1.outputs)\n",
    "layer2.outputs"
   ]
  },
  {
   "cell_type": "code",
   "execution_count": 37,
   "id": "a8b6ecdf-357b-4df2-9ebf-f1d208d810b5",
   "metadata": {},
   "outputs": [],
   "source": [
    "import nnfs\n",
    "from nnfs.datasets import spiral_data\n",
    "\n",
    "nnfs.init()\n",
    "\n",
    "X, y = spiral_data(100, 3)"
   ]
  },
  {
   "cell_type": "code",
   "execution_count": 38,
   "id": "6aee7061-9140-4e65-8d07-9deff2c71a28",
   "metadata": {},
   "outputs": [],
   "source": [
    "import seaborn as sns\n",
    "import matplotlib.pyplot as plt "
   ]
  },
  {
   "cell_type": "code",
   "execution_count": 40,
   "id": "92ac0b16-e97f-4788-aed7-fe01609de670",
   "metadata": {},
   "outputs": [
    {
     "data": {
      "text/plain": [
       "array([[ 0.00000000e+00,  0.00000000e+00,  0.00000000e+00,\n",
       "         0.00000000e+00,  0.00000000e+00],\n",
       "       [ 5.09662132e-05,  2.82163121e-04, -6.14295888e-04,\n",
       "        -2.78327265e-04, -2.18806133e-04],\n",
       "       [-2.53826292e-05,  1.32260774e-03, -1.89793913e-03,\n",
       "        -1.03709206e-03, -6.62760111e-04],\n",
       "       ...,\n",
       "       [ 1.49472691e-02, -1.03460461e-01,  1.00327469e-01,\n",
       "         6.80047795e-02,  3.40471603e-02],\n",
       "       [ 1.17370244e-02, -1.04946040e-01,  1.14487566e-01,\n",
       "         7.24482983e-02,  3.92385311e-02],\n",
       "       [ 1.57508273e-02, -1.03014432e-01,  9.66713205e-02,\n",
       "         6.68329149e-02,  3.27085815e-02]], dtype=float32)"
      ]
     },
     "execution_count": 40,
     "metadata": {},
     "output_type": "execute_result"
    }
   ],
   "source": [
    "layer1 = Layer_Dense(2, 5)\n",
    "activation1 = Activation_ReLU()\n",
    "\n",
    "layer1.forward(X)\n",
    "layer1.outputs"
   ]
  },
  {
   "cell_type": "code",
   "execution_count": 41,
   "id": "7d5fe306-e909-4983-b849-a30d2da6d503",
   "metadata": {},
   "outputs": [],
   "source": [
    "activation1.forward(layer1.outputs)"
   ]
  },
  {
   "cell_type": "code",
   "execution_count": 42,
   "id": "ed7267d5-c803-41e8-8ba1-3ff51bbdb0f8",
   "metadata": {},
   "outputs": [
    {
     "data": {
      "text/plain": [
       "array([[0.00000000e+00, 0.00000000e+00, 0.00000000e+00, 0.00000000e+00,\n",
       "        0.00000000e+00],\n",
       "       [5.09662132e-05, 2.82163121e-04, 0.00000000e+00, 0.00000000e+00,\n",
       "        0.00000000e+00],\n",
       "       [0.00000000e+00, 1.32260774e-03, 0.00000000e+00, 0.00000000e+00,\n",
       "        0.00000000e+00],\n",
       "       ...,\n",
       "       [1.49472691e-02, 0.00000000e+00, 1.00327469e-01, 6.80047795e-02,\n",
       "        3.40471603e-02],\n",
       "       [1.17370244e-02, 0.00000000e+00, 1.14487566e-01, 7.24482983e-02,\n",
       "        3.92385311e-02],\n",
       "       [1.57508273e-02, 0.00000000e+00, 9.66713205e-02, 6.68329149e-02,\n",
       "        3.27085815e-02]], dtype=float32)"
      ]
     },
     "execution_count": 42,
     "metadata": {},
     "output_type": "execute_result"
    }
   ],
   "source": [
    "activation1.outputs"
   ]
  },
  {
   "cell_type": "code",
   "execution_count": null,
   "id": "c77765d0-41a3-4a26-952c-5949d70235d4",
   "metadata": {},
   "outputs": [],
   "source": []
  }
 ],
 "metadata": {
  "kernelspec": {
   "display_name": "Python 3 (ipykernel)",
   "language": "python",
   "name": "python3"
  },
  "language_info": {
   "codemirror_mode": {
    "name": "ipython",
    "version": 3
   },
   "file_extension": ".py",
   "mimetype": "text/x-python",
   "name": "python",
   "nbconvert_exporter": "python",
   "pygments_lexer": "ipython3",
   "version": "3.10.6"
  }
 },
 "nbformat": 4,
 "nbformat_minor": 5
}
