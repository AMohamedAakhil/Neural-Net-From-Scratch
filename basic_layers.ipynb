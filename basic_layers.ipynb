{
 "cells": [
  {
   "cell_type": "code",
   "execution_count": 48,
   "id": "02cbc8b7-b1e9-4efe-b6a7-d974ceb8c03a",
   "metadata": {},
   "outputs": [],
   "source": [
    "import numpy as np\n",
    "\n",
    "inputs = [[1, 2, 3, 2.5], [1, 2, 3, 4], [2, 3, 4, 5]]\n",
    "\n",
    "weights1 = [[0.2, 0.8, -0.5, 1.0],\n",
    "           [0.5, -0.91, 0.2, 0.33],\n",
    "           [0.2, 0.3, 0.34, 0.44]]\n",
    "\n",
    "biases1 = [2, 3, 0.5]\n",
    "\n",
    "weights2 = [[0.2, 0.8, -0.2],\n",
    "           [0.5, -0.91, 0.2],\n",
    "           [0.2, 0.3, 0.34]]\n",
    "\n",
    "biases2 = [2, 3, 0.5]\n",
    "\n",
    "layer1_outputs = np.dot(np.array(inputs), np.array(weights1).T) + biases1"
   ]
  },
  {
   "cell_type": "code",
   "execution_count": 49,
   "id": "5d0942de-8e38-447f-88c0-e8ecb62496d1",
   "metadata": {},
   "outputs": [
    {
     "data": {
      "text/plain": [
       "array([[4.8  , 3.105, 3.42 ],\n",
       "       [6.3  , 3.6  , 4.08 ],\n",
       "       [7.8  , 3.72 , 5.36 ]])"
      ]
     },
     "execution_count": 49,
     "metadata": {},
     "output_type": "execute_result"
    }
   ],
   "source": [
    "layer1_outputs"
   ]
  },
  {
   "cell_type": "code",
   "execution_count": 50,
   "id": "8f59cb57-508b-4ff4-9d31-adf3af4658de",
   "metadata": {},
   "outputs": [
    {
     "data": {
      "text/plain": [
       "array([[1. , 2. , 3. , 2.5],\n",
       "       [1. , 2. , 3. , 4. ],\n",
       "       [2. , 3. , 4. , 5. ]])"
      ]
     },
     "execution_count": 50,
     "metadata": {},
     "output_type": "execute_result"
    }
   ],
   "source": [
    "np.array(inputs)"
   ]
  },
  {
   "cell_type": "code",
   "execution_count": 51,
   "id": "de190e06-a5e0-4e06-a7bd-6e6fcbc63919",
   "metadata": {},
   "outputs": [],
   "source": [
    "layer2_outputs = np.dot(layer1_outputs, np.array(weights2).T) + np.array(biases2)"
   ]
  },
  {
   "cell_type": "code",
   "execution_count": 52,
   "id": "4daf5266-17d6-4791-b3f8-52cd434305a5",
   "metadata": {},
   "outputs": [
    {
     "data": {
      "text/plain": [
       "array([[4.76   , 3.25845, 3.5543 ],\n",
       "       [5.324  , 3.69   , 4.2272 ],\n",
       "       [5.464  , 4.5868 , 4.9984 ]])"
      ]
     },
     "execution_count": 52,
     "metadata": {},
     "output_type": "execute_result"
    }
   ],
   "source": [
    "layer2_outputs"
   ]
  },
  {
   "cell_type": "code",
   "execution_count": 54,
   "id": "7e92d677-8eb2-4cb3-a213-3b63278c03d0",
   "metadata": {},
   "outputs": [],
   "source": [
    "weights3 = [[0.2, 0.8, -0.2],\n",
    "           [0.5, -0.91, 0.2],\n",
    "           [0.2, 0.3, 0.34]]\n",
    "\n",
    "biases3 = [2, 3, 0.5]\n",
    "\n",
    "layer3_outputs = np.dot(layer2_outputs, np.array(weights3).T) + np.array(biases3)\n"
   ]
  },
  {
   "cell_type": "code",
   "execution_count": null,
   "id": "d36e0117-4717-48e9-b589-7c7378ebeb00",
   "metadata": {},
   "outputs": [],
   "source": []
  },
  {
   "cell_type": "code",
   "execution_count": null,
   "id": "b703195a-7307-4945-946d-24d76e30121b",
   "metadata": {},
   "outputs": [],
   "source": []
  }
 ],
 "metadata": {
  "kernelspec": {
   "display_name": "Python 3 (ipykernel)",
   "language": "python",
   "name": "python3"
  },
  "language_info": {
   "codemirror_mode": {
    "name": "ipython",
    "version": 3
   },
   "file_extension": ".py",
   "mimetype": "text/x-python",
   "name": "python",
   "nbconvert_exporter": "python",
   "pygments_lexer": "ipython3",
   "version": "3.10.6"
  }
 },
 "nbformat": 4,
 "nbformat_minor": 5
}
